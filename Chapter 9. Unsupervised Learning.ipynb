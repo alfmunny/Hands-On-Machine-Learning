{
 "cells": [
  {
   "cell_type": "markdown",
   "metadata": {},
   "source": [
    "# Clustering\n",
    "\n",
    "- Customer segmentation\n",
    "- Data Analysis\n",
    "- Dimenionality reduction\n",
    "- Dnomaly detection\n",
    "- Semi-supervised learning\n",
    "- Search engines\n",
    "- Segment an image"
   ]
  },
  {
   "cell_type": "markdown",
   "metadata": {},
   "source": [
    "## K-Means\n",
    "\n",
    "```\n",
    "Placing the centroids randomly (e.g., by picking k instances at random and using their locations as centroids). Then label the instances, update the centroids, label the instances, update the centroids, and so on until the centroids stop moving\n",
    "```"
   ]
  },
  {
   "cell_type": "code",
   "execution_count": 2,
   "metadata": {},
   "outputs": [],
   "source": [
    "import numpy as np\n",
    "import os\n",
    "# To plot pretty figures\n",
    "%matplotlib inline\n",
    "import matplotlib as mpl\n",
    "import matplotlib.pyplot as plt\n",
    "mpl.rc('axes', labelsize=14)\n",
    "mpl.rc('xtick', labelsize=12)\n",
    "mpl.rc('ytick', labelsize=12)\n",
    "# Where to save the figures\n",
    "PROJECT_ROOT_DIR = \".\"\n",
    "CHAPTER_ID = \"unsupervised_learning\"\n",
    "IMAGES_PATH = os.path.join(PROJECT_ROOT_DIR, \"images\", CHAPTER_ID)\n",
    "os.makedirs(IMAGES_PATH, exist_ok=True)\n",
    "def save_fig(fig_id, tight_layout=True, fig_extension=\"png\", resolution=300):\n",
    "    path = os.path.join(IMAGES_PATH, fig_id + \".\" + fig_extension)\n",
    "    print(\"Saving figure\", fig_id)\n",
    "    if tight_layout:\n",
    "        plt.tight_layout()\n",
    "    plt.savefig(path, format=fig_extension, dpi=resolution)\n",
    "# Ignore useless warnings (see SciPy issue #5998)\n",
    "import warnings\n",
    "warnings.filterwarnings(action=\"ignore\", message=\"^internal gelsd\")"
   ]
  },
  {
   "cell_type": "code",
   "execution_count": 3,
   "metadata": {},
   "outputs": [],
   "source": [
    "from sklearn.datasets import make_blobs\n",
    "blob_centers = np.array(\n",
    "    [[0.2, 2.3],\n",
    "     [-1.5, 2.3],\n",
    "     [-2.8, 1.8],\n",
    "     [-2.8, 2.8],\n",
    "     [-2.8, 1.3]]\n",
    ")\n",
    "blob_std = np.array([0.4, 0.3, 0.1, 0.1, 0.1])"
   ]
  },
  {
   "cell_type": "code",
   "execution_count": 4,
   "metadata": {},
   "outputs": [],
   "source": [
    "X, y = make_blobs(n_samples=2000, centers=blob_centers, cluster_std=blob_std, random_state=7)"
   ]
  },
  {
   "cell_type": "code",
   "execution_count": 5,
   "metadata": {},
   "outputs": [],
   "source": [
    "def plot_clusters(X, y=None):\n",
    "    plt.scatter(X[:, 0], X[:, 1], c=y, s=1)\n",
    "    plt.xlabel(\"$x_1$\", fontsize=14)\n",
    "    plt.ylabel(\"$x_2$\", fontsize=14, rotation=0)"
   ]
  },
  {
   "cell_type": "code",
   "execution_count": 6,
   "metadata": {},
   "outputs": [
    {
     "name": "stdout",
     "output_type": "stream",
     "text": [
      "Saving figure blobs_plot\n"
     ]
    },
    {
     "data": {
      "image/png": "[encoded data removed]",
      "text/plain": [
       "<Figure size 576x288 with 1 Axes>"
      ]
     },
     "metadata": {
      "needs_background": "light"
     },
     "output_type": "display_data"
    }
   ],
   "source": [
    "plt.figure(figsize=(8,4))\n",
    "plot_clusters(X)\n",
    "save_fig(\"blobs_plot\")\n"
   ]
  },
  {
   "cell_type": "markdown",
   "metadata": {},
   "source": [
    "### Fit and Predict"
   ]
  },
  {
   "cell_type": "code",
   "execution_count": 7,
   "metadata": {},
   "outputs": [],
   "source": [
    "from sklearn.cluster import KMeans"
   ]
  },
  {
   "cell_type": "code",
   "execution_count": 8,
   "metadata": {},
   "outputs": [],
   "source": [
    "k = 5\n",
    "kmeans = KMeans(n_clusters=k, random_state=42)\n",
    "y_pred = kmeans.fit_predict(X)"
   ]
  },
  {
   "cell_type": "code",
   "execution_count": 9,
   "metadata": {},
   "outputs": [
    {
     "data": {
      "text/plain": [
       "array([0, 4, 1, ..., 2, 1, 4])"
      ]
     },
     "execution_count": 9,
     "metadata": {},
     "output_type": "execute_result"
    }
   ],
   "source": [
    "y_pred"
   ]
  },
  {
   "cell_type": "code",
   "execution_count": 10,
   "metadata": {},
   "outputs": [
    {
     "data": {
      "text/plain": [
       "True"
      ]
     },
     "execution_count": 10,
     "metadata": {},
     "output_type": "execute_result"
    }
   ],
   "source": [
    "y_pred is kmeans.labels_"
   ]
  },
  {
   "cell_type": "code",
   "execution_count": 11,
   "metadata": {},
   "outputs": [
    {
     "data": {
      "text/plain": [
       "array([[-2.80037642,  1.30082566],\n",
       "       [ 0.20876306,  2.25551336],\n",
       "       [-2.79290307,  2.79641063],\n",
       "       [-1.46679593,  2.28585348],\n",
       "       [-2.80389616,  1.80117999]])"
      ]
     },
     "execution_count": 11,
     "metadata": {},
     "output_type": "execute_result"
    }
   ],
   "source": [
    "kmeans.cluster_centers_"
   ]
  },
  {
   "cell_type": "code",
   "execution_count": 12,
   "metadata": {},
   "outputs": [
    {
     "data": {
      "text/plain": [
       "array([1, 1, 2, 2])"
      ]
     },
     "execution_count": 12,
     "metadata": {},
     "output_type": "execute_result"
    }
   ],
   "source": [
    "X_new = np.array([[0, 2], [3, 2], [-3, 3], [-3, 2.5]])\n",
    "kmeans.predict(X_new)"
   ]
  },
  {
   "cell_type": "markdown",
   "metadata": {},
   "source": [
    "tranform() method measures the distance from each instance to every centroid."
   ]
  },
  {
   "cell_type": "code",
   "execution_count": 13,
   "metadata": {},
   "outputs": [
    {
     "data": {
      "text/plain": [
       "array([[2.88633901, 0.32995317, 2.9042344 , 1.49439034, 2.81093633],\n",
       "       [5.84236351, 2.80290755, 5.84739223, 4.4759332 , 5.80730058],\n",
       "       [1.71086031, 3.29399768, 0.29040966, 1.69136631, 1.21475352],\n",
       "       [1.21567622, 3.21806371, 0.36159148, 1.54808703, 0.72581411]])"
      ]
     },
     "execution_count": 13,
     "metadata": {},
     "output_type": "execute_result"
    }
   ],
   "source": [
    "kmeans.transform(X_new)"
   ]
  },
  {
   "cell_type": "markdown",
   "metadata": {},
   "source": [
    "### Initialization methods\n",
    "\n",
    "1. If you know approximately where the centroids lie, you can set the init hyperparameter.\n",
    "2. Or run the altorithm multiple times with different random initialization and keep the best solution."
   ]
  },
  {
   "cell_type": "code",
   "execution_count": 14,
   "metadata": {},
   "outputs": [
    {
     "data": {
      "text/plain": [
       "KMeans(init=array([[-3,  3],\n",
       "       [-3,  2],\n",
       "       [-3,  1],\n",
       "       [-1,  2],\n",
       "       [ 0,  2]]),\n",
       "       n_clusters=5, n_init=1)"
      ]
     },
     "execution_count": 14,
     "metadata": {},
     "output_type": "execute_result"
    }
   ],
   "source": [
    "good_init = np.array([[-3, 3], [-3, 2], [-3, 1], [-1, 2], [0, 2]])\n",
    "kmeans = KMeans(n_clusters=5, init=good_init, n_init=1) # n_init is default 10, it means it runs the training 10 times and keep the best solution\n",
    "kmeans.fit(X)"
   ]
  },
  {
   "cell_type": "code",
   "execution_count": 15,
   "metadata": {},
   "outputs": [
    {
     "data": {
      "text/plain": [
       "211.62337889822365"
      ]
     },
     "execution_count": 15,
     "metadata": {},
     "output_type": "execute_result"
    }
   ],
   "source": [
    "kmeans.inertia_"
   ]
  },
  {
   "cell_type": "code",
   "execution_count": 16,
   "metadata": {},
   "outputs": [
    {
     "data": {
      "text/plain": [
       "-211.62337889822362"
      ]
     },
     "execution_count": 16,
     "metadata": {},
     "output_type": "execute_result"
    }
   ],
   "source": [
    "kmeans.score(X)"
   ]
  },
  {
   "cell_type": "markdown",
   "metadata": {},
   "source": [
    "Kmeans use the Kmeans++ version of initilization by default. It select centroids that are distant from one another. This improvement makes the K-Means algorithm much less likely to converge to a suboptimal solution."
   ]
  },
  {
   "cell_type": "markdown",
   "metadata": {},
   "source": [
    "### Accelerated K-Means and mini-batch K-Means"
   ]
  },
  {
   "cell_type": "code",
   "execution_count": 17,
   "metadata": {},
   "outputs": [
    {
     "data": {
      "text/plain": [
       "MiniBatchKMeans(n_clusters=5)"
      ]
     },
     "execution_count": 17,
     "metadata": {},
     "output_type": "execute_result"
    }
   ],
   "source": [
    "from sklearn.cluster import MiniBatchKMeans\n",
    "minibatch_kmeans = MiniBatchKMeans(n_clusters=5)\n",
    "minibatch_kmeans.fit(X)"
   ]
  },
  {
   "cell_type": "markdown",
   "metadata": {},
   "source": [
    "### finding the optimal number of clusters"
   ]
  },
  {
   "cell_type": "code",
   "execution_count": 18,
   "metadata": {},
   "outputs": [
    {
     "data": {
      "text/plain": [
       "0.655517642572828"
      ]
     },
     "execution_count": 18,
     "metadata": {},
     "output_type": "execute_result"
    }
   ],
   "source": [
    "from sklearn.metrics import silhouette_score\n",
    "silhouette_score(X, kmeans.labels_)"
   ]
  },
  {
   "cell_type": "code",
   "execution_count": 19,
   "metadata": {},
   "outputs": [],
   "source": [
    "kmeans_per_k = [KMeans(n_clusters=k, random_state=42).fit(X) for k in range(1, 10)]\n",
    "inertias = [model.inertia_ for model in kmeans_per_k]"
   ]
  },
  {
   "cell_type": "code",
   "execution_count": 20,
   "metadata": {},
   "outputs": [
    {
     "name": "stdout",
     "output_type": "stream",
     "text": [
      "Saving figure inertia_vs_k_plot\n"
     ]
    },
    {
     "data": {
      "image/png": "[encoded data removed]",
      "text/plain": [
       "<Figure size 576x252 with 1 Axes>"
      ]
     },
     "metadata": {
      "needs_background": "light"
     },
     "output_type": "display_data"
    }
   ],
   "source": [
    "plt.figure(figsize=(8, 3.5))\n",
    "plt.plot(range(1, 10), inertias, \"bo-\")\n",
    "plt.xlabel(\"$k$\", fontsize=14)\n",
    "plt.ylabel(\"Inertia\", fontsize=14)\n",
    "plt.annotate('Elbow',\n",
    "            xy=(4, inertias[3]),\n",
    "             xytext=(0.55, 0.55),\n",
    "             textcoords='figure fraction',\n",
    "             fontsize=16,\n",
    "             arrowprops=dict(facecolor='black', shrink=0.1)\n",
    "            )\n",
    "\n",
    "plt.axis([1, 8.5, 0, 1300])\n",
    "save_fig(\"inertia_vs_k_plot\")\n",
    "plt.show()"
   ]
  },
  {
   "cell_type": "markdown",
   "metadata": {},
   "source": [
    "Another approach: silhouette score\n",
    "\n",
    "(b-1)/max(a, b)\n",
    "\n",
    "a: the mean distance to the other instances in the same cluster\n",
    "b: the mean nearest-cluster distance\n"
   ]
  },
  {
   "cell_type": "code",
   "execution_count": 21,
   "metadata": {},
   "outputs": [],
   "source": [
    "silhouette_scores = [silhouette_score(X, model.labels_)\n",
    "                     for model in kmeans_per_k[1:]]"
   ]
  },
  {
   "cell_type": "code",
   "execution_count": 22,
   "metadata": {},
   "outputs": [
    {
     "data": {
      "image/png": "[encoded data removed]",
      "text/plain": [
       "<Figure size 576x216 with 1 Axes>"
      ]
     },
     "metadata": {
      "needs_background": "light"
     },
     "output_type": "display_data"
    }
   ],
   "source": [
    "plt.figure(figsize=(8, 3))\n",
    "plt.plot(range(2, 10), silhouette_scores, \"bo-\")\n",
    "plt.xlabel(\"$k$\", fontsize=14)\n",
    "plt.ylabel(\"Silhouette score\", fontsize=14)\n",
    "plt.axis([1.8, 8.5, 0.55, 0.7])\n",
    "plt.show()"
   ]
  },
  {
   "cell_type": "markdown",
   "metadata": {},
   "source": [
    "## Limits of K-Means\n",
    "\n",
    "1. need to run the algorithm several times to avoid suboptimal solutions\n",
    "2. need to specify the number of clusters\n",
    "3. Does not behave well when the clusters have varying sizes, different densities, or nonspherical shapes. Gaussian mixture models work great."
   ]
  },
  {
   "cell_type": "markdown",
   "metadata": {},
   "source": [
    "## Using Clustering for Image Segmentation"
   ]
  },
  {
   "cell_type": "markdown",
   "metadata": {},
   "source": [
    "## Using Clusering for Preprocessing"
   ]
  },
  {
   "cell_type": "code",
   "execution_count": 23,
   "metadata": {},
   "outputs": [],
   "source": [
    "from sklearn.datasets import load_digits\n",
    "\n",
    "X_digits, y_digits = load_digits(return_X_y=True)"
   ]
  },
  {
   "cell_type": "code",
   "execution_count": 24,
   "metadata": {},
   "outputs": [],
   "source": [
    "from sklearn.model_selection import train_test_split"
   ]
  },
  {
   "cell_type": "code",
   "execution_count": 25,
   "metadata": {},
   "outputs": [],
   "source": [
    "X_train, X_test, y_train, y_test = train_test_split(X_digits, y_digits, random_state=42)"
   ]
  },
  {
   "cell_type": "code",
   "execution_count": 26,
   "metadata": {},
   "outputs": [],
   "source": [
    "from sklearn.linear_model import LogisticRegression"
   ]
  },
  {
   "cell_type": "code",
   "execution_count": 27,
   "metadata": {},
   "outputs": [
    {
     "data": {
      "text/plain": [
       "LogisticRegression(max_iter=5000, multi_class='ovr', random_state=42)"
      ]
     },
     "execution_count": 27,
     "metadata": {},
     "output_type": "execute_result"
    }
   ],
   "source": [
    "log_reg = LogisticRegression(multi_class=\"ovr\", solver=\"lbfgs\", max_iter=5000, random_state=42)\n",
    "log_reg.fit(X_train, y_train)"
   ]
  },
  {
   "cell_type": "code",
   "execution_count": 28,
   "metadata": {},
   "outputs": [
    {
     "data": {
      "text/plain": [
       "0.9688888888888889"
      ]
     },
     "execution_count": 28,
     "metadata": {},
     "output_type": "execute_result"
    }
   ],
   "source": [
    "log_reg.score(X_test, y_test)"
   ]
  },
  {
   "cell_type": "code",
   "execution_count": 29,
   "metadata": {},
   "outputs": [],
   "source": [
    "from sklearn.pipeline import Pipeline"
   ]
  },
  {
   "cell_type": "code",
   "execution_count": 30,
   "metadata": {},
   "outputs": [
    {
     "data": {
      "text/plain": [
       "Pipeline(steps=[('kmeans', KMeans(n_clusters=50, random_state=42)),\n",
       "                ('log_reg',\n",
       "                 LogisticRegression(max_iter=5000, multi_class='ovr',\n",
       "                                    random_state=42))])"
      ]
     },
     "execution_count": 30,
     "metadata": {},
     "output_type": "execute_result"
    }
   ],
   "source": [
    "pipeline = Pipeline(\n",
    "[\n",
    "    (\"kmeans\", KMeans(n_clusters=50, random_state=42)),\n",
    "    (\"log_reg\", LogisticRegression(multi_class=\"ovr\", solver=\"lbfgs\", max_iter=5000, random_state=42))\n",
    "])\n",
    "\n",
    "pipeline.fit(X_train, y_train)"
   ]
  },
  {
   "cell_type": "code",
   "execution_count": 31,
   "metadata": {},
   "outputs": [
    {
     "data": {
      "text/plain": [
       "0.98"
      ]
     },
     "execution_count": 31,
     "metadata": {},
     "output_type": "execute_result"
    }
   ],
   "source": [
    "pipeline.score(X_test, y_test)"
   ]
  },
  {
   "cell_type": "code",
   "execution_count": 32,
   "metadata": {},
   "outputs": [],
   "source": [
    "from sklearn.model_selection import GridSearchCV"
   ]
  },
  {
   "cell_type": "code",
   "execution_count": 33,
   "metadata": {},
   "outputs": [
    {
     "name": "stdout",
     "output_type": "stream",
     "text": [
      "Fitting 3 folds for each of 98 candidates, totalling 294 fits\n",
      "[CV] kmeans__n_clusters=2 ............................................\n",
      "[CV] ............................. kmeans__n_clusters=2, total=   0.1s\n",
      "[CV] kmeans__n_clusters=2 ............................................\n"
     ]
    },
    {
     "name": "stderr",
     "output_type": "stream",
     "text": [
      "[Parallel(n_jobs=1)]: Using backend SequentialBackend with 1 concurrent workers.\n",
      "[Parallel(n_jobs=1)]: Done   1 out of   1 | elapsed:    0.0s remaining:    0.0s\n"
     ]
    },
    {
     "name": "stdout",
     "output_type": "stream",
     "text": [
      "[CV] ............................. kmeans__n_clusters=2, total=   0.1s\n",
      "[CV] kmeans__n_clusters=2 ............................................\n",
      "[CV] ............................. kmeans__n_clusters=2, total=   0.1s\n",
      "[CV] kmeans__n_clusters=3 ............................................\n",
      "[CV] ............................. kmeans__n_clusters=3, total=   0.1s\n",
      "[CV] kmeans__n_clusters=3 ............................................\n",
      "[CV] ............................. kmeans__n_clusters=3, total=   0.1s\n",
      "[CV] kmeans__n_clusters=3 ............................................\n",
      "[CV] ............................. kmeans__n_clusters=3, total=   0.2s\n",
      "[CV] kmeans__n_clusters=4 ............................................\n",
      "[CV] ............................. kmeans__n_clusters=4, total=   0.2s\n",
      "[CV] kmeans__n_clusters=4 ............................................\n",
      "[CV] ............................. kmeans__n_clusters=4, total=   0.2s\n",
      "[CV] kmeans__n_clusters=4 ............................................\n",
      "[CV] ............................. kmeans__n_clusters=4, total=   0.1s\n",
      "[CV] kmeans__n_clusters=5 ............................................\n",
      "[CV] ............................. kmeans__n_clusters=5, total=   0.1s\n",
      "[CV] kmeans__n_clusters=5 ............................................\n",
      "[CV] ............................. kmeans__n_clusters=5, total=   0.2s\n",
      "[CV] kmeans__n_clusters=5 ............................................\n",
      "[CV] ............................. kmeans__n_clusters=5, total=   0.2s\n",
      "[CV] kmeans__n_clusters=6 ............................................\n",
      "[CV] ............................. kmeans__n_clusters=6, total=   0.2s\n",
      "[CV] kmeans__n_clusters=6 ............................................\n",
      "[CV] ............................. kmeans__n_clusters=6, total=   0.2s\n",
      "[CV] kmeans__n_clusters=6 ............................................\n",
      "[CV] ............................. kmeans__n_clusters=6, total=   0.2s\n",
      "[CV] kmeans__n_clusters=7 ............................................\n",
      "[CV] ............................. kmeans__n_clusters=7, total=   0.2s\n",
      "[CV] kmeans__n_clusters=7 ............................................\n",
      "[CV] ............................. kmeans__n_clusters=7, total=   0.3s\n",
      "[CV] kmeans__n_clusters=7 ............................................\n",
      "[CV] ............................. kmeans__n_clusters=7, total=   0.3s\n",
      "[CV] kmeans__n_clusters=8 ............................................\n",
      "[CV] ............................. kmeans__n_clusters=8, total=   0.3s\n",
      "[CV] kmeans__n_clusters=8 ............................................\n",
      "[CV] ............................. kmeans__n_clusters=8, total=   0.3s\n",
      "[CV] kmeans__n_clusters=8 ............................................\n",
      "[CV] ............................. kmeans__n_clusters=8, total=   0.3s\n",
      "[CV] kmeans__n_clusters=9 ............................................\n",
      "[CV] ............................. kmeans__n_clusters=9, total=   0.3s\n",
      "[CV] kmeans__n_clusters=9 ............................................\n",
      "[CV] ............................. kmeans__n_clusters=9, total=   0.4s\n",
      "[CV] kmeans__n_clusters=9 ............................................\n",
      "[CV] ............................. kmeans__n_clusters=9, total=   0.4s\n",
      "[CV] kmeans__n_clusters=10 ...........................................\n",
      "[CV] ............................ kmeans__n_clusters=10, total=   0.4s\n",
      "[CV] kmeans__n_clusters=10 ...........................................\n",
      "[CV] ............................ kmeans__n_clusters=10, total=   0.5s\n",
      "[CV] kmeans__n_clusters=10 ...........................................\n",
      "[CV] ............................ kmeans__n_clusters=10, total=   0.5s\n",
      "[CV] kmeans__n_clusters=11 ...........................................\n",
      "[CV] ............................ kmeans__n_clusters=11, total=   1.0s\n",
      "[CV] kmeans__n_clusters=11 ...........................................\n",
      "[CV] ............................ kmeans__n_clusters=11, total=   1.1s\n",
      "[CV] kmeans__n_clusters=11 ...........................................\n",
      "[CV] ............................ kmeans__n_clusters=11, total=   0.9s\n",
      "[CV] kmeans__n_clusters=12 ...........................................\n",
      "[CV] ............................ kmeans__n_clusters=12, total=   1.2s\n",
      "[CV] kmeans__n_clusters=12 ...........................................\n",
      "[CV] ............................ kmeans__n_clusters=12, total=   1.2s\n",
      "[CV] kmeans__n_clusters=12 ...........................................\n",
      "[CV] ............................ kmeans__n_clusters=12, total=   1.2s\n",
      "[CV] kmeans__n_clusters=13 ...........................................\n",
      "[CV] ............................ kmeans__n_clusters=13, total=   1.5s\n",
      "[CV] kmeans__n_clusters=13 ...........................................\n",
      "[CV] ............................ kmeans__n_clusters=13, total=   1.5s\n",
      "[CV] kmeans__n_clusters=13 ...........................................\n",
      "[CV] ............................ kmeans__n_clusters=13, total=   1.5s\n",
      "[CV] kmeans__n_clusters=14 ...........................................\n",
      "[CV] ............................ kmeans__n_clusters=14, total=   1.6s\n",
      "[CV] kmeans__n_clusters=14 ...........................................\n",
      "[CV] ............................ kmeans__n_clusters=14, total=   1.6s\n",
      "[CV] kmeans__n_clusters=14 ...........................................\n",
      "[CV] ............................ kmeans__n_clusters=14, total=   1.6s\n",
      "[CV] kmeans__n_clusters=15 ...........................................\n",
      "[CV] ............................ kmeans__n_clusters=15, total=   2.0s\n",
      "[CV] kmeans__n_clusters=15 ...........................................\n",
      "[CV] ............................ kmeans__n_clusters=15, total=   1.7s\n",
      "[CV] kmeans__n_clusters=15 ...........................................\n",
      "[CV] ............................ kmeans__n_clusters=15, total=   1.9s\n",
      "[CV] kmeans__n_clusters=16 ...........................................\n",
      "[CV] ............................ kmeans__n_clusters=16, total=   2.2s\n",
      "[CV] kmeans__n_clusters=16 ...........................................\n",
      "[CV] ............................ kmeans__n_clusters=16, total=   2.1s\n",
      "[CV] kmeans__n_clusters=16 ...........................................\n",
      "[CV] ............................ kmeans__n_clusters=16, total=   2.1s\n",
      "[CV] kmeans__n_clusters=17 ...........................................\n",
      "[CV] ............................ kmeans__n_clusters=17, total=   2.5s\n",
      "[CV] kmeans__n_clusters=17 ...........................................\n",
      "[CV] ............................ kmeans__n_clusters=17, total=   2.2s\n",
      "[CV] kmeans__n_clusters=17 ...........................................\n",
      "[CV] ............................ kmeans__n_clusters=17, total=   2.1s\n",
      "[CV] kmeans__n_clusters=18 ...........................................\n",
      "[CV] ............................ kmeans__n_clusters=18, total=   2.6s\n",
      "[CV] kmeans__n_clusters=18 ...........................................\n",
      "[CV] ............................ kmeans__n_clusters=18, total=   2.3s\n",
      "[CV] kmeans__n_clusters=18 ...........................................\n",
      "[CV] ............................ kmeans__n_clusters=18, total=   2.4s\n",
      "[CV] kmeans__n_clusters=19 ...........................................\n",
      "[CV] ............................ kmeans__n_clusters=19, total=   2.5s\n",
      "[CV] kmeans__n_clusters=19 ...........................................\n",
      "[CV] ............................ kmeans__n_clusters=19, total=   2.5s\n",
      "[CV] kmeans__n_clusters=19 ...........................................\n",
      "[CV] ............................ kmeans__n_clusters=19, total=   2.4s\n",
      "[CV] kmeans__n_clusters=20 ...........................................\n",
      "[CV] ............................ kmeans__n_clusters=20, total=   2.9s\n",
      "[CV] kmeans__n_clusters=20 ...........................................\n",
      "[CV] ............................ kmeans__n_clusters=20, total=   2.5s\n",
      "[CV] kmeans__n_clusters=20 ...........................................\n",
      "[CV] ............................ kmeans__n_clusters=20, total=   2.6s\n",
      "[CV] kmeans__n_clusters=21 ...........................................\n",
      "[CV] ............................ kmeans__n_clusters=21, total=   2.7s\n",
      "[CV] kmeans__n_clusters=21 ...........................................\n",
      "[CV] ............................ kmeans__n_clusters=21, total=   2.9s\n",
      "[CV] kmeans__n_clusters=21 ...........................................\n"
     ]
    },
    {
     "name": "stdout",
     "output_type": "stream",
     "text": [
      "[CV] ............................ kmeans__n_clusters=21, total=   2.8s\n",
      "[CV] kmeans__n_clusters=22 ...........................................\n",
      "[CV] ............................ kmeans__n_clusters=22, total=   2.7s\n",
      "[CV] kmeans__n_clusters=22 ...........................................\n",
      "[CV] ............................ kmeans__n_clusters=22, total=   3.0s\n",
      "[CV] kmeans__n_clusters=22 ...........................................\n",
      "[CV] ............................ kmeans__n_clusters=22, total=   3.0s\n",
      "[CV] kmeans__n_clusters=23 ...........................................\n",
      "[CV] ............................ kmeans__n_clusters=23, total=   3.1s\n",
      "[CV] kmeans__n_clusters=23 ...........................................\n",
      "[CV] ............................ kmeans__n_clusters=23, total=   3.3s\n",
      "[CV] kmeans__n_clusters=23 ...........................................\n",
      "[CV] ............................ kmeans__n_clusters=23, total=   2.9s\n",
      "[CV] kmeans__n_clusters=24 ...........................................\n",
      "[CV] ............................ kmeans__n_clusters=24, total=   3.2s\n",
      "[CV] kmeans__n_clusters=24 ...........................................\n",
      "[CV] ............................ kmeans__n_clusters=24, total=   3.4s\n",
      "[CV] kmeans__n_clusters=24 ...........................................\n",
      "[CV] ............................ kmeans__n_clusters=24, total=   3.2s\n",
      "[CV] kmeans__n_clusters=25 ...........................................\n",
      "[CV] ............................ kmeans__n_clusters=25, total=   3.0s\n",
      "[CV] kmeans__n_clusters=25 ...........................................\n",
      "[CV] ............................ kmeans__n_clusters=25, total=   3.4s\n",
      "[CV] kmeans__n_clusters=25 ...........................................\n",
      "[CV] ............................ kmeans__n_clusters=25, total=   3.2s\n",
      "[CV] kmeans__n_clusters=26 ...........................................\n",
      "[CV] ............................ kmeans__n_clusters=26, total=   3.5s\n",
      "[CV] kmeans__n_clusters=26 ...........................................\n",
      "[CV] ............................ kmeans__n_clusters=26, total=   3.5s\n",
      "[CV] kmeans__n_clusters=26 ...........................................\n",
      "[CV] ............................ kmeans__n_clusters=26, total=   3.3s\n",
      "[CV] kmeans__n_clusters=27 ...........................................\n",
      "[CV] ............................ kmeans__n_clusters=27, total=   3.3s\n",
      "[CV] kmeans__n_clusters=27 ...........................................\n",
      "[CV] ............................ kmeans__n_clusters=27, total=   3.8s\n",
      "[CV] kmeans__n_clusters=27 ...........................................\n",
      "[CV] ............................ kmeans__n_clusters=27, total=   3.6s\n",
      "[CV] kmeans__n_clusters=28 ...........................................\n",
      "[CV] ............................ kmeans__n_clusters=28, total=   3.7s\n",
      "[CV] kmeans__n_clusters=28 ...........................................\n",
      "[CV] ............................ kmeans__n_clusters=28, total=   3.4s\n",
      "[CV] kmeans__n_clusters=28 ...........................................\n",
      "[CV] ............................ kmeans__n_clusters=28, total=   3.5s\n",
      "[CV] kmeans__n_clusters=29 ...........................................\n",
      "[CV] ............................ kmeans__n_clusters=29, total=   3.7s\n",
      "[CV] kmeans__n_clusters=29 ...........................................\n",
      "[CV] ............................ kmeans__n_clusters=29, total=   3.7s\n",
      "[CV] kmeans__n_clusters=29 ...........................................\n",
      "[CV] ............................ kmeans__n_clusters=29, total=   3.4s\n",
      "[CV] kmeans__n_clusters=30 ...........................................\n",
      "[CV] ............................ kmeans__n_clusters=30, total=   4.1s\n",
      "[CV] kmeans__n_clusters=30 ...........................................\n",
      "[CV] ............................ kmeans__n_clusters=30, total=   3.7s\n",
      "[CV] kmeans__n_clusters=30 ...........................................\n",
      "[CV] ............................ kmeans__n_clusters=30, total=   3.7s\n",
      "[CV] kmeans__n_clusters=31 ...........................................\n",
      "[CV] ............................ kmeans__n_clusters=31, total=   4.0s\n",
      "[CV] kmeans__n_clusters=31 ...........................................\n",
      "[CV] ............................ kmeans__n_clusters=31, total=   4.1s\n",
      "[CV] kmeans__n_clusters=31 ...........................................\n",
      "[CV] ............................ kmeans__n_clusters=31, total=   3.7s\n",
      "[CV] kmeans__n_clusters=32 ...........................................\n",
      "[CV] ............................ kmeans__n_clusters=32, total=   4.1s\n",
      "[CV] kmeans__n_clusters=32 ...........................................\n",
      "[CV] ............................ kmeans__n_clusters=32, total=   4.1s\n",
      "[CV] kmeans__n_clusters=32 ...........................................\n",
      "[CV] ............................ kmeans__n_clusters=32, total=   3.7s\n",
      "[CV] kmeans__n_clusters=33 ...........................................\n",
      "[CV] ............................ kmeans__n_clusters=33, total=   4.2s\n",
      "[CV] kmeans__n_clusters=33 ...........................................\n",
      "[CV] ............................ kmeans__n_clusters=33, total=   4.4s\n",
      "[CV] kmeans__n_clusters=33 ...........................................\n",
      "[CV] ............................ kmeans__n_clusters=33, total=   3.8s\n",
      "[CV] kmeans__n_clusters=34 ...........................................\n",
      "[CV] ............................ kmeans__n_clusters=34, total=   4.0s\n",
      "[CV] kmeans__n_clusters=34 ...........................................\n",
      "[CV] ............................ kmeans__n_clusters=34, total=   4.3s\n",
      "[CV] kmeans__n_clusters=34 ...........................................\n",
      "[CV] ............................ kmeans__n_clusters=34, total=   4.1s\n",
      "[CV] kmeans__n_clusters=35 ...........................................\n",
      "[CV] ............................ kmeans__n_clusters=35, total=   4.4s\n",
      "[CV] kmeans__n_clusters=35 ...........................................\n",
      "[CV] ............................ kmeans__n_clusters=35, total=   4.4s\n",
      "[CV] kmeans__n_clusters=35 ...........................................\n",
      "[CV] ............................ kmeans__n_clusters=35, total=   3.8s\n",
      "[CV] kmeans__n_clusters=36 ...........................................\n",
      "[CV] ............................ kmeans__n_clusters=36, total=   3.9s\n",
      "[CV] kmeans__n_clusters=36 ...........................................\n",
      "[CV] ............................ kmeans__n_clusters=36, total=   4.4s\n",
      "[CV] kmeans__n_clusters=36 ...........................................\n",
      "[CV] ............................ kmeans__n_clusters=36, total=   4.2s\n",
      "[CV] kmeans__n_clusters=37 ...........................................\n",
      "[CV] ............................ kmeans__n_clusters=37, total=   4.6s\n",
      "[CV] kmeans__n_clusters=37 ...........................................\n",
      "[CV] ............................ kmeans__n_clusters=37, total=   4.3s\n",
      "[CV] kmeans__n_clusters=37 ...........................................\n",
      "[CV] ............................ kmeans__n_clusters=37, total=   4.2s\n",
      "[CV] kmeans__n_clusters=38 ...........................................\n",
      "[CV] ............................ kmeans__n_clusters=38, total=   4.3s\n",
      "[CV] kmeans__n_clusters=38 ...........................................\n",
      "[CV] ............................ kmeans__n_clusters=38, total=   4.4s\n",
      "[CV] kmeans__n_clusters=38 ...........................................\n",
      "[CV] ............................ kmeans__n_clusters=38, total=   4.0s\n",
      "[CV] kmeans__n_clusters=39 ...........................................\n",
      "[CV] ............................ kmeans__n_clusters=39, total=   4.1s\n",
      "[CV] kmeans__n_clusters=39 ...........................................\n",
      "[CV] ............................ kmeans__n_clusters=39, total=   4.7s\n",
      "[CV] kmeans__n_clusters=39 ...........................................\n",
      "[CV] ............................ kmeans__n_clusters=39, total=   4.4s\n",
      "[CV] kmeans__n_clusters=40 ...........................................\n",
      "[CV] ............................ kmeans__n_clusters=40, total=   4.2s\n",
      "[CV] kmeans__n_clusters=40 ...........................................\n",
      "[CV] ............................ kmeans__n_clusters=40, total=   4.6s\n",
      "[CV] kmeans__n_clusters=40 ...........................................\n",
      "[CV] ............................ kmeans__n_clusters=40, total=   4.0s\n",
      "[CV] kmeans__n_clusters=41 ...........................................\n"
     ]
    },
    {
     "name": "stdout",
     "output_type": "stream",
     "text": [
      "[CV] ............................ kmeans__n_clusters=41, total=   4.1s\n",
      "[CV] kmeans__n_clusters=41 ...........................................\n",
      "[CV] ............................ kmeans__n_clusters=41, total=   4.4s\n",
      "[CV] kmeans__n_clusters=41 ...........................................\n",
      "[CV] ............................ kmeans__n_clusters=41, total=   4.6s\n",
      "[CV] kmeans__n_clusters=42 ...........................................\n",
      "[CV] ............................ kmeans__n_clusters=42, total=   4.8s\n",
      "[CV] kmeans__n_clusters=42 ...........................................\n",
      "[CV] ............................ kmeans__n_clusters=42, total=   4.4s\n",
      "[CV] kmeans__n_clusters=42 ...........................................\n",
      "[CV] ............................ kmeans__n_clusters=42, total=   4.1s\n",
      "[CV] kmeans__n_clusters=43 ...........................................\n",
      "[CV] ............................ kmeans__n_clusters=43, total=   4.6s\n",
      "[CV] kmeans__n_clusters=43 ...........................................\n",
      "[CV] ............................ kmeans__n_clusters=43, total=   4.9s\n",
      "[CV] kmeans__n_clusters=43 ...........................................\n",
      "[CV] ............................ kmeans__n_clusters=43, total=   4.3s\n",
      "[CV] kmeans__n_clusters=44 ...........................................\n",
      "[CV] ............................ kmeans__n_clusters=44, total=   4.7s\n",
      "[CV] kmeans__n_clusters=44 ...........................................\n",
      "[CV] ............................ kmeans__n_clusters=44, total=   4.9s\n",
      "[CV] kmeans__n_clusters=44 ...........................................\n",
      "[CV] ............................ kmeans__n_clusters=44, total=   4.7s\n",
      "[CV] kmeans__n_clusters=45 ...........................................\n",
      "[CV] ............................ kmeans__n_clusters=45, total=   5.1s\n",
      "[CV] kmeans__n_clusters=45 ...........................................\n",
      "[CV] ............................ kmeans__n_clusters=45, total=   4.9s\n",
      "[CV] kmeans__n_clusters=45 ...........................................\n",
      "[CV] ............................ kmeans__n_clusters=45, total=   4.2s\n",
      "[CV] kmeans__n_clusters=46 ...........................................\n",
      "[CV] ............................ kmeans__n_clusters=46, total=   4.8s\n",
      "[CV] kmeans__n_clusters=46 ...........................................\n",
      "[CV] ............................ kmeans__n_clusters=46, total=   4.2s\n",
      "[CV] kmeans__n_clusters=46 ...........................................\n",
      "[CV] ............................ kmeans__n_clusters=46, total=   4.8s\n",
      "[CV] kmeans__n_clusters=47 ...........................................\n",
      "[CV] ............................ kmeans__n_clusters=47, total=   4.3s\n",
      "[CV] kmeans__n_clusters=47 ...........................................\n",
      "[CV] ............................ kmeans__n_clusters=47, total=   4.3s\n",
      "[CV] kmeans__n_clusters=47 ...........................................\n",
      "[CV] ............................ kmeans__n_clusters=47, total=   4.4s\n",
      "[CV] kmeans__n_clusters=48 ...........................................\n",
      "[CV] ............................ kmeans__n_clusters=48, total=   4.3s\n",
      "[CV] kmeans__n_clusters=48 ...........................................\n",
      "[CV] ............................ kmeans__n_clusters=48, total=   4.9s\n",
      "[CV] kmeans__n_clusters=48 ...........................................\n",
      "[CV] ............................ kmeans__n_clusters=48, total=   4.9s\n",
      "[CV] kmeans__n_clusters=49 ...........................................\n",
      "[CV] ............................ kmeans__n_clusters=49, total=   4.6s\n",
      "[CV] kmeans__n_clusters=49 ...........................................\n",
      "[CV] ............................ kmeans__n_clusters=49, total=   4.5s\n",
      "[CV] kmeans__n_clusters=49 ...........................................\n",
      "[CV] ............................ kmeans__n_clusters=49, total=   5.2s\n",
      "[CV] kmeans__n_clusters=50 ...........................................\n",
      "[CV] ............................ kmeans__n_clusters=50, total=   4.9s\n",
      "[CV] kmeans__n_clusters=50 ...........................................\n",
      "[CV] ............................ kmeans__n_clusters=50, total=   4.9s\n",
      "[CV] kmeans__n_clusters=50 ...........................................\n",
      "[CV] ............................ kmeans__n_clusters=50, total=   4.9s\n",
      "[CV] kmeans__n_clusters=51 ...........................................\n",
      "[CV] ............................ kmeans__n_clusters=51, total=   4.8s\n",
      "[CV] kmeans__n_clusters=51 ...........................................\n",
      "[CV] ............................ kmeans__n_clusters=51, total=   5.0s\n",
      "[CV] kmeans__n_clusters=51 ...........................................\n",
      "[CV] ............................ kmeans__n_clusters=51, total=   5.0s\n",
      "[CV] kmeans__n_clusters=52 ...........................................\n",
      "[CV] ............................ kmeans__n_clusters=52, total=   4.5s\n",
      "[CV] kmeans__n_clusters=52 ...........................................\n",
      "[CV] ............................ kmeans__n_clusters=52, total=   4.9s\n",
      "[CV] kmeans__n_clusters=52 ...........................................\n",
      "[CV] ............................ kmeans__n_clusters=52, total=   5.0s\n",
      "[CV] kmeans__n_clusters=53 ...........................................\n",
      "[CV] ............................ kmeans__n_clusters=53, total=   4.7s\n",
      "[CV] kmeans__n_clusters=53 ...........................................\n",
      "[CV] ............................ kmeans__n_clusters=53, total=   4.5s\n",
      "[CV] kmeans__n_clusters=53 ...........................................\n",
      "[CV] ............................ kmeans__n_clusters=53, total=   5.2s\n",
      "[CV] kmeans__n_clusters=54 ...........................................\n",
      "[CV] ............................ kmeans__n_clusters=54, total=   4.6s\n",
      "[CV] kmeans__n_clusters=54 ...........................................\n",
      "[CV] ............................ kmeans__n_clusters=54, total=   4.7s\n",
      "[CV] kmeans__n_clusters=54 ...........................................\n",
      "[CV] ............................ kmeans__n_clusters=54, total=   5.1s\n",
      "[CV] kmeans__n_clusters=55 ...........................................\n",
      "[CV] ............................ kmeans__n_clusters=55, total=   5.2s\n",
      "[CV] kmeans__n_clusters=55 ...........................................\n",
      "[CV] ............................ kmeans__n_clusters=55, total=   5.4s\n",
      "[CV] kmeans__n_clusters=55 ...........................................\n",
      "[CV] ............................ kmeans__n_clusters=55, total=   4.3s\n",
      "[CV] kmeans__n_clusters=56 ...........................................\n",
      "[CV] ............................ kmeans__n_clusters=56, total=   5.0s\n",
      "[CV] kmeans__n_clusters=56 ...........................................\n",
      "[CV] ............................ kmeans__n_clusters=56, total=   4.9s\n",
      "[CV] kmeans__n_clusters=56 ...........................................\n",
      "[CV] ............................ kmeans__n_clusters=56, total=   4.6s\n",
      "[CV] kmeans__n_clusters=57 ...........................................\n",
      "[CV] ............................ kmeans__n_clusters=57, total=   5.0s\n",
      "[CV] kmeans__n_clusters=57 ...........................................\n",
      "[CV] ............................ kmeans__n_clusters=57, total=   5.4s\n",
      "[CV] kmeans__n_clusters=57 ...........................................\n",
      "[CV] ............................ kmeans__n_clusters=57, total=   4.5s\n",
      "[CV] kmeans__n_clusters=58 ...........................................\n",
      "[CV] ............................ kmeans__n_clusters=58, total=   4.4s\n",
      "[CV] kmeans__n_clusters=58 ...........................................\n",
      "[CV] ............................ kmeans__n_clusters=58, total=   5.0s\n",
      "[CV] kmeans__n_clusters=58 ...........................................\n",
      "[CV] ............................ kmeans__n_clusters=58, total=   5.3s\n",
      "[CV] kmeans__n_clusters=59 ...........................................\n",
      "[CV] ............................ kmeans__n_clusters=59, total=   4.8s\n",
      "[CV] kmeans__n_clusters=59 ...........................................\n",
      "[CV] ............................ kmeans__n_clusters=59, total=   5.1s\n",
      "[CV] kmeans__n_clusters=59 ...........................................\n",
      "[CV] ............................ kmeans__n_clusters=59, total=   4.8s\n",
      "[CV] kmeans__n_clusters=60 ...........................................\n",
      "[CV] ............................ kmeans__n_clusters=60, total=   5.1s\n",
      "[CV] kmeans__n_clusters=60 ...........................................\n"
     ]
    },
    {
     "name": "stdout",
     "output_type": "stream",
     "text": [
      "[CV] ............................ kmeans__n_clusters=60, total=   5.6s\n",
      "[CV] kmeans__n_clusters=60 ...........................................\n",
      "[CV] ............................ kmeans__n_clusters=60, total=   5.2s\n",
      "[CV] kmeans__n_clusters=61 ...........................................\n",
      "[CV] ............................ kmeans__n_clusters=61, total=   5.2s\n",
      "[CV] kmeans__n_clusters=61 ...........................................\n",
      "[CV] ............................ kmeans__n_clusters=61, total=   5.7s\n",
      "[CV] kmeans__n_clusters=61 ...........................................\n",
      "[CV] ............................ kmeans__n_clusters=61, total=   4.5s\n",
      "[CV] kmeans__n_clusters=62 ...........................................\n",
      "[CV] ............................ kmeans__n_clusters=62, total=   4.9s\n",
      "[CV] kmeans__n_clusters=62 ...........................................\n",
      "[CV] ............................ kmeans__n_clusters=62, total=   5.2s\n",
      "[CV] kmeans__n_clusters=62 ...........................................\n",
      "[CV] ............................ kmeans__n_clusters=62, total=   4.7s\n",
      "[CV] kmeans__n_clusters=63 ...........................................\n",
      "[CV] ............................ kmeans__n_clusters=63, total=   5.3s\n",
      "[CV] kmeans__n_clusters=63 ...........................................\n",
      "[CV] ............................ kmeans__n_clusters=63, total=   5.2s\n",
      "[CV] kmeans__n_clusters=63 ...........................................\n",
      "[CV] ............................ kmeans__n_clusters=63, total=   4.7s\n",
      "[CV] kmeans__n_clusters=64 ...........................................\n",
      "[CV] ............................ kmeans__n_clusters=64, total=   5.0s\n",
      "[CV] kmeans__n_clusters=64 ...........................................\n",
      "[CV] ............................ kmeans__n_clusters=64, total=   5.3s\n",
      "[CV] kmeans__n_clusters=64 ...........................................\n",
      "[CV] ............................ kmeans__n_clusters=64, total=   5.2s\n",
      "[CV] kmeans__n_clusters=65 ...........................................\n",
      "[CV] ............................ kmeans__n_clusters=65, total=   4.9s\n",
      "[CV] kmeans__n_clusters=65 ...........................................\n",
      "[CV] ............................ kmeans__n_clusters=65, total=   5.4s\n",
      "[CV] kmeans__n_clusters=65 ...........................................\n",
      "[CV] ............................ kmeans__n_clusters=65, total=   4.9s\n",
      "[CV] kmeans__n_clusters=66 ...........................................\n",
      "[CV] ............................ kmeans__n_clusters=66, total=   5.2s\n",
      "[CV] kmeans__n_clusters=66 ...........................................\n",
      "[CV] ............................ kmeans__n_clusters=66, total=   5.6s\n",
      "[CV] kmeans__n_clusters=66 ...........................................\n",
      "[CV] ............................ kmeans__n_clusters=66, total=   4.9s\n",
      "[CV] kmeans__n_clusters=67 ...........................................\n",
      "[CV] ............................ kmeans__n_clusters=67, total=   5.3s\n",
      "[CV] kmeans__n_clusters=67 ...........................................\n",
      "[CV] ............................ kmeans__n_clusters=67, total=   5.2s\n",
      "[CV] kmeans__n_clusters=67 ...........................................\n",
      "[CV] ............................ kmeans__n_clusters=67, total=   5.2s\n",
      "[CV] kmeans__n_clusters=68 ...........................................\n",
      "[CV] ............................ kmeans__n_clusters=68, total=   5.3s\n",
      "[CV] kmeans__n_clusters=68 ...........................................\n",
      "[CV] ............................ kmeans__n_clusters=68, total=   5.2s\n",
      "[CV] kmeans__n_clusters=68 ...........................................\n",
      "[CV] ............................ kmeans__n_clusters=68, total=   5.4s\n",
      "[CV] kmeans__n_clusters=69 ...........................................\n",
      "[CV] ............................ kmeans__n_clusters=69, total=   5.4s\n",
      "[CV] kmeans__n_clusters=69 ...........................................\n",
      "[CV] ............................ kmeans__n_clusters=69, total=   4.8s\n",
      "[CV] kmeans__n_clusters=69 ...........................................\n",
      "[CV] ............................ kmeans__n_clusters=69, total=   5.8s\n",
      "[CV] kmeans__n_clusters=70 ...........................................\n",
      "[CV] ............................ kmeans__n_clusters=70, total=   5.0s\n",
      "[CV] kmeans__n_clusters=70 ...........................................\n",
      "[CV] ............................ kmeans__n_clusters=70, total=   4.4s\n",
      "[CV] kmeans__n_clusters=70 ...........................................\n",
      "[CV] ............................ kmeans__n_clusters=70, total=   5.1s\n",
      "[CV] kmeans__n_clusters=71 ...........................................\n",
      "[CV] ............................ kmeans__n_clusters=71, total=   4.5s\n",
      "[CV] kmeans__n_clusters=71 ...........................................\n",
      "[CV] ............................ kmeans__n_clusters=71, total=   5.4s\n",
      "[CV] kmeans__n_clusters=71 ...........................................\n",
      "[CV] ............................ kmeans__n_clusters=71, total=   5.3s\n",
      "[CV] kmeans__n_clusters=72 ...........................................\n",
      "[CV] ............................ kmeans__n_clusters=72, total=   4.7s\n",
      "[CV] kmeans__n_clusters=72 ...........................................\n",
      "[CV] ............................ kmeans__n_clusters=72, total=   5.5s\n",
      "[CV] kmeans__n_clusters=72 ...........................................\n",
      "[CV] ............................ kmeans__n_clusters=72, total=   5.5s\n",
      "[CV] kmeans__n_clusters=73 ...........................................\n",
      "[CV] ............................ kmeans__n_clusters=73, total=   4.7s\n",
      "[CV] kmeans__n_clusters=73 ...........................................\n",
      "[CV] ............................ kmeans__n_clusters=73, total=   5.1s\n",
      "[CV] kmeans__n_clusters=73 ...........................................\n",
      "[CV] ............................ kmeans__n_clusters=73, total=   5.0s\n",
      "[CV] kmeans__n_clusters=74 ...........................................\n",
      "[CV] ............................ kmeans__n_clusters=74, total=   4.7s\n",
      "[CV] kmeans__n_clusters=74 ...........................................\n",
      "[CV] ............................ kmeans__n_clusters=74, total=   6.1s\n",
      "[CV] kmeans__n_clusters=74 ...........................................\n",
      "[CV] ............................ kmeans__n_clusters=74, total=   5.4s\n",
      "[CV] kmeans__n_clusters=75 ...........................................\n",
      "[CV] ............................ kmeans__n_clusters=75, total=   4.5s\n",
      "[CV] kmeans__n_clusters=75 ...........................................\n",
      "[CV] ............................ kmeans__n_clusters=75, total=   5.4s\n",
      "[CV] kmeans__n_clusters=75 ...........................................\n",
      "[CV] ............................ kmeans__n_clusters=75, total=   4.8s\n",
      "[CV] kmeans__n_clusters=76 ...........................................\n",
      "[CV] ............................ kmeans__n_clusters=76, total=   4.8s\n",
      "[CV] kmeans__n_clusters=76 ...........................................\n",
      "[CV] ............................ kmeans__n_clusters=76, total=   5.5s\n",
      "[CV] kmeans__n_clusters=76 ...........................................\n",
      "[CV] ............................ kmeans__n_clusters=76, total=   5.1s\n",
      "[CV] kmeans__n_clusters=77 ...........................................\n",
      "[CV] ............................ kmeans__n_clusters=77, total=   5.2s\n",
      "[CV] kmeans__n_clusters=77 ...........................................\n",
      "[CV] ............................ kmeans__n_clusters=77, total=   4.9s\n",
      "[CV] kmeans__n_clusters=77 ...........................................\n",
      "[CV] ............................ kmeans__n_clusters=77, total=   5.7s\n",
      "[CV] kmeans__n_clusters=78 ...........................................\n",
      "[CV] ............................ kmeans__n_clusters=78, total=   4.9s\n",
      "[CV] kmeans__n_clusters=78 ...........................................\n",
      "[CV] ............................ kmeans__n_clusters=78, total=   4.8s\n",
      "[CV] kmeans__n_clusters=78 ...........................................\n",
      "[CV] ............................ kmeans__n_clusters=78, total=   4.9s\n",
      "[CV] kmeans__n_clusters=79 ...........................................\n",
      "[CV] ............................ kmeans__n_clusters=79, total=   4.6s\n",
      "[CV] kmeans__n_clusters=79 ...........................................\n",
      "[CV] ............................ kmeans__n_clusters=79, total=   5.4s\n",
      "[CV] kmeans__n_clusters=79 ...........................................\n"
     ]
    },
    {
     "name": "stdout",
     "output_type": "stream",
     "text": [
      "[CV] ............................ kmeans__n_clusters=79, total=   5.5s\n",
      "[CV] kmeans__n_clusters=80 ...........................................\n",
      "[CV] ............................ kmeans__n_clusters=80, total=   4.7s\n",
      "[CV] kmeans__n_clusters=80 ...........................................\n",
      "[CV] ............................ kmeans__n_clusters=80, total=   5.0s\n",
      "[CV] kmeans__n_clusters=80 ...........................................\n",
      "[CV] ............................ kmeans__n_clusters=80, total=   5.2s\n",
      "[CV] kmeans__n_clusters=81 ...........................................\n",
      "[CV] ............................ kmeans__n_clusters=81, total=   4.7s\n",
      "[CV] kmeans__n_clusters=81 ...........................................\n",
      "[CV] ............................ kmeans__n_clusters=81, total=   5.5s\n",
      "[CV] kmeans__n_clusters=81 ...........................................\n",
      "[CV] ............................ kmeans__n_clusters=81, total=   5.0s\n",
      "[CV] kmeans__n_clusters=82 ...........................................\n",
      "[CV] ............................ kmeans__n_clusters=82, total=   4.6s\n",
      "[CV] kmeans__n_clusters=82 ...........................................\n",
      "[CV] ............................ kmeans__n_clusters=82, total=   5.4s\n",
      "[CV] kmeans__n_clusters=82 ...........................................\n",
      "[CV] ............................ kmeans__n_clusters=82, total=   4.9s\n",
      "[CV] kmeans__n_clusters=83 ...........................................\n",
      "[CV] ............................ kmeans__n_clusters=83, total=   5.3s\n",
      "[CV] kmeans__n_clusters=83 ...........................................\n",
      "[CV] ............................ kmeans__n_clusters=83, total=   4.9s\n",
      "[CV] kmeans__n_clusters=83 ...........................................\n",
      "[CV] ............................ kmeans__n_clusters=83, total=   5.2s\n",
      "[CV] kmeans__n_clusters=84 ...........................................\n",
      "[CV] ............................ kmeans__n_clusters=84, total=   4.8s\n",
      "[CV] kmeans__n_clusters=84 ...........................................\n",
      "[CV] ............................ kmeans__n_clusters=84, total=   5.9s\n",
      "[CV] kmeans__n_clusters=84 ...........................................\n",
      "[CV] ............................ kmeans__n_clusters=84, total=   4.8s\n",
      "[CV] kmeans__n_clusters=85 ...........................................\n",
      "[CV] ............................ kmeans__n_clusters=85, total=   5.2s\n",
      "[CV] kmeans__n_clusters=85 ...........................................\n",
      "[CV] ............................ kmeans__n_clusters=85, total=   5.7s\n",
      "[CV] kmeans__n_clusters=85 ...........................................\n",
      "[CV] ............................ kmeans__n_clusters=85, total=   5.0s\n",
      "[CV] kmeans__n_clusters=86 ...........................................\n",
      "[CV] ............................ kmeans__n_clusters=86, total=   5.3s\n",
      "[CV] kmeans__n_clusters=86 ...........................................\n",
      "[CV] ............................ kmeans__n_clusters=86, total=   5.4s\n",
      "[CV] kmeans__n_clusters=86 ...........................................\n",
      "[CV] ............................ kmeans__n_clusters=86, total=   4.8s\n",
      "[CV] kmeans__n_clusters=87 ...........................................\n",
      "[CV] ............................ kmeans__n_clusters=87, total=   5.2s\n",
      "[CV] kmeans__n_clusters=87 ...........................................\n",
      "[CV] ............................ kmeans__n_clusters=87, total=   5.4s\n",
      "[CV] kmeans__n_clusters=87 ...........................................\n",
      "[CV] ............................ kmeans__n_clusters=87, total=   5.3s\n",
      "[CV] kmeans__n_clusters=88 ...........................................\n",
      "[CV] ............................ kmeans__n_clusters=88, total=   4.9s\n",
      "[CV] kmeans__n_clusters=88 ...........................................\n",
      "[CV] ............................ kmeans__n_clusters=88, total=   5.2s\n",
      "[CV] kmeans__n_clusters=88 ...........................................\n",
      "[CV] ............................ kmeans__n_clusters=88, total=   5.0s\n",
      "[CV] kmeans__n_clusters=89 ...........................................\n",
      "[CV] ............................ kmeans__n_clusters=89, total=   4.9s\n",
      "[CV] kmeans__n_clusters=89 ...........................................\n",
      "[CV] ............................ kmeans__n_clusters=89, total=   5.7s\n",
      "[CV] kmeans__n_clusters=89 ...........................................\n",
      "[CV] ............................ kmeans__n_clusters=89, total=   5.2s\n",
      "[CV] kmeans__n_clusters=90 ...........................................\n",
      "[CV] ............................ kmeans__n_clusters=90, total=   4.6s\n",
      "[CV] kmeans__n_clusters=90 ...........................................\n",
      "[CV] ............................ kmeans__n_clusters=90, total=   5.6s\n",
      "[CV] kmeans__n_clusters=90 ...........................................\n",
      "[CV] ............................ kmeans__n_clusters=90, total=   4.9s\n",
      "[CV] kmeans__n_clusters=91 ...........................................\n",
      "[CV] ............................ kmeans__n_clusters=91, total=   5.3s\n",
      "[CV] kmeans__n_clusters=91 ...........................................\n",
      "[CV] ............................ kmeans__n_clusters=91, total=   5.6s\n",
      "[CV] kmeans__n_clusters=91 ...........................................\n",
      "[CV] ............................ kmeans__n_clusters=91, total=   5.2s\n",
      "[CV] kmeans__n_clusters=92 ...........................................\n",
      "[CV] ............................ kmeans__n_clusters=92, total=   5.2s\n",
      "[CV] kmeans__n_clusters=92 ...........................................\n",
      "[CV] ............................ kmeans__n_clusters=92, total=   4.9s\n",
      "[CV] kmeans__n_clusters=92 ...........................................\n",
      "[CV] ............................ kmeans__n_clusters=92, total=   4.8s\n",
      "[CV] kmeans__n_clusters=93 ...........................................\n",
      "[CV] ............................ kmeans__n_clusters=93, total=   5.1s\n",
      "[CV] kmeans__n_clusters=93 ...........................................\n",
      "[CV] ............................ kmeans__n_clusters=93, total=   4.9s\n",
      "[CV] kmeans__n_clusters=93 ...........................................\n",
      "[CV] ............................ kmeans__n_clusters=93, total=   4.9s\n",
      "[CV] kmeans__n_clusters=94 ...........................................\n",
      "[CV] ............................ kmeans__n_clusters=94, total=   5.2s\n",
      "[CV] kmeans__n_clusters=94 ...........................................\n",
      "[CV] ............................ kmeans__n_clusters=94, total=   5.5s\n",
      "[CV] kmeans__n_clusters=94 ...........................................\n",
      "[CV] ............................ kmeans__n_clusters=94, total=   4.7s\n",
      "[CV] kmeans__n_clusters=95 ...........................................\n",
      "[CV] ............................ kmeans__n_clusters=95, total=   5.1s\n",
      "[CV] kmeans__n_clusters=95 ...........................................\n",
      "[CV] ............................ kmeans__n_clusters=95, total=   5.8s\n",
      "[CV] kmeans__n_clusters=95 ...........................................\n",
      "[CV] ............................ kmeans__n_clusters=95, total=   4.6s\n",
      "[CV] kmeans__n_clusters=96 ...........................................\n",
      "[CV] ............................ kmeans__n_clusters=96, total=   5.3s\n",
      "[CV] kmeans__n_clusters=96 ...........................................\n",
      "[CV] ............................ kmeans__n_clusters=96, total=   5.0s\n",
      "[CV] kmeans__n_clusters=96 ...........................................\n",
      "[CV] ............................ kmeans__n_clusters=96, total=   5.0s\n",
      "[CV] kmeans__n_clusters=97 ...........................................\n",
      "[CV] ............................ kmeans__n_clusters=97, total=   5.0s\n",
      "[CV] kmeans__n_clusters=97 ...........................................\n",
      "[CV] ............................ kmeans__n_clusters=97, total=   5.0s\n",
      "[CV] kmeans__n_clusters=97 ...........................................\n",
      "[CV] ............................ kmeans__n_clusters=97, total=   4.9s\n",
      "[CV] kmeans__n_clusters=98 ...........................................\n",
      "[CV] ............................ kmeans__n_clusters=98, total=   4.9s\n",
      "[CV] kmeans__n_clusters=98 ...........................................\n",
      "[CV] ............................ kmeans__n_clusters=98, total=   5.4s\n",
      "[CV] kmeans__n_clusters=98 ...........................................\n",
      "[CV] ............................ kmeans__n_clusters=98, total=   5.1s\n",
      "[CV] kmeans__n_clusters=99 ...........................................\n"
     ]
    },
    {
     "name": "stdout",
     "output_type": "stream",
     "text": [
      "[CV] ............................ kmeans__n_clusters=99, total=   4.9s\n",
      "[CV] kmeans__n_clusters=99 ...........................................\n",
      "[CV] ............................ kmeans__n_clusters=99, total=   5.7s\n",
      "[CV] kmeans__n_clusters=99 ...........................................\n",
      "[CV] ............................ kmeans__n_clusters=99, total=   5.1s\n"
     ]
    },
    {
     "name": "stderr",
     "output_type": "stream",
     "text": [
      "[Parallel(n_jobs=1)]: Done 294 out of 294 | elapsed: 19.6min finished\n"
     ]
    },
    {
     "data": {
      "text/plain": [
       "GridSearchCV(cv=3,\n",
       "             estimator=Pipeline(steps=[('kmeans',\n",
       "                                        KMeans(n_clusters=50, random_state=42)),\n",
       "                                       ('log_reg',\n",
       "                                        LogisticRegression(max_iter=5000,\n",
       "                                                           multi_class='ovr',\n",
       "                                                           random_state=42))]),\n",
       "             param_grid={'kmeans__n_clusters': range(2, 100)}, verbose=2)"
      ]
     },
     "execution_count": 33,
     "metadata": {},
     "output_type": "execute_result"
    }
   ],
   "source": [
    "param_grid = dict(kmeans__n_clusters=range(2,100))\n",
    "grid_clf = GridSearchCV(pipeline, param_grid, cv=3, verbose=2)\n",
    "grid_clf.fit(X_train, y_train)"
   ]
  },
  {
   "cell_type": "code",
   "execution_count": 35,
   "metadata": {},
   "outputs": [
    {
     "data": {
      "text/plain": [
       "{'kmeans__n_clusters': 57}"
      ]
     },
     "execution_count": 35,
     "metadata": {},
     "output_type": "execute_result"
    }
   ],
   "source": [
    "grid_clf.best_params_"
   ]
  },
  {
   "cell_type": "code",
   "execution_count": 36,
   "metadata": {},
   "outputs": [
    {
     "data": {
      "text/plain": [
       "0.98"
      ]
     },
     "execution_count": 36,
     "metadata": {},
     "output_type": "execute_result"
    }
   ],
   "source": [
    "grid_clf.score(X_test, y_test)"
   ]
  },
  {
   "cell_type": "markdown",
   "metadata": {},
   "source": [
    "## Using  Semi-supervised Learning"
   ]
  },
  {
   "cell_type": "code",
   "execution_count": 34,
   "metadata": {},
   "outputs": [
    {
     "data": {
      "text/plain": [
       "0.8333333333333334"
      ]
     },
     "execution_count": 34,
     "metadata": {},
     "output_type": "execute_result"
    }
   ],
   "source": [
    "from sklearn.linear_model import LogisticRegression\n",
    "n_labeled = 50\n",
    "\n",
    "log_reg = LogisticRegression(multi_class=\"ovr\", solver=\"lbfgs\", random_state=42)\n",
    "log_reg.fit(X_train[:n_labeled], y_train[:n_labeled])\n",
    "log_reg.score(X_test, y_test)"
   ]
  },
  {
   "cell_type": "code",
   "execution_count": 46,
   "metadata": {},
   "outputs": [],
   "source": [
    "k = 50\n",
    "kmeans = KMeans(n_clusters=k, random_state=42)\n",
    "X_digits_dist = kmeans.fit_transform(X_train)\n",
    "representative_digit_idx = np.argmin(X_digits_dist, axis=0)\n",
    "X_representative_digits = X_train[representative_digit_idx]"
   ]
  },
  {
   "cell_type": "code",
   "execution_count": 47,
   "metadata": {},
   "outputs": [
    {
     "name": "stdout",
     "output_type": "stream",
     "text": [
      "Saving figure representative_images_diagram\n"
     ]
    },
    {
     "data": {
      "image/png": "[encoded data removed]",
      "text/plain": [
       "<Figure size 576x144 with 50 Axes>"
      ]
     },
     "metadata": {
      "needs_background": "light"
     },
     "output_type": "display_data"
    }
   ],
   "source": [
    "plt.figure(figsize=(8,2))\n",
    "for index, X_representative_digit in enumerate(X_representative_digits):\n",
    "    plt.subplot(k//10, 10, index+1)\n",
    "    plt.imshow(X_representative_digit.reshape(8, 8), cmap=\"binary\", interpolation=\"bilinear\")\n",
    "    plt.axis('off')\n",
    "\n",
    "save_fig(\"representative_images_diagram\", tight_layout=False)\n",
    "plt.show()"
   ]
  },
  {
   "cell_type": "code",
   "execution_count": 48,
   "metadata": {},
   "outputs": [],
   "source": [
    "y_representative_digits = np.array([\n",
    "    0, 1, 3, 2, 7, 6, 4, 6, 9, 5,\n",
    "    1, 2, 9, 5, 2, 7, 8, 1, 8, 6,\n",
    "    3, 1, 5, 6, 5, 4, 0, 3, 2, 6,\n",
    "    1, 7, 7, 0, 1, 8, 6, 5, 4, 8,\n",
    "    5, 3, 3, 6, 7, 9, 7, 8, 4, 9\n",
    "])"
   ]
  },
  {
   "cell_type": "code",
   "execution_count": 49,
   "metadata": {},
   "outputs": [
    {
     "data": {
      "text/plain": [
       "array([[ 0.,  0.,  7., ...,  3.,  0.,  0.],\n",
       "       [ 0.,  0.,  0., ..., 15.,  4.,  0.],\n",
       "       [ 0.,  0.,  6., ..., 11.,  1.,  0.],\n",
       "       ...,\n",
       "       [ 0.,  0.,  3., ...,  2.,  0.,  0.],\n",
       "       [ 0.,  0.,  1., ...,  0.,  0.,  0.],\n",
       "       [ 0.,  0.,  0., ...,  6.,  0.,  0.]])"
      ]
     },
     "execution_count": 49,
     "metadata": {},
     "output_type": "execute_result"
    }
   ],
   "source": [
    "X_representative_digits"
   ]
  },
  {
   "cell_type": "code",
   "execution_count": 77,
   "metadata": {},
   "outputs": [
    {
     "data": {
      "text/plain": [
       "0.9"
      ]
     },
     "execution_count": 77,
     "metadata": {},
     "output_type": "execute_result"
    }
   ],
   "source": [
    "log_reg = LogisticRegression(multi_class=\"ovr\", solver=\"lbfgs\", max_iter=5000, random_state=42)\n",
    "log_reg.fit(X_representative_digits, y_representative_digits)\n",
    "log_reg.score(X_test, y_test)"
   ]
  },
  {
   "cell_type": "code",
   "execution_count": 78,
   "metadata": {},
   "outputs": [
    {
     "data": {
      "text/plain": [
       "array([[41.52526381, 47.80543271, 53.28606227, ..., 40.84863485,\n",
       "        33.42329319, 45.35671763],\n",
       "       [51.57028789, 55.26223803, 42.55626876, ..., 43.60992152,\n",
       "        53.69754997, 62.09003954],\n",
       "       [17.68832797, 53.78479191, 46.78038512, ..., 41.03618053,\n",
       "        43.17301972, 49.18269733],\n",
       "       ...,\n",
       "       [46.20281892, 46.98687906, 39.79532121, ..., 35.41242071,\n",
       "        50.51847709, 54.14682717],\n",
       "       [42.16801694, 38.66939823, 45.43803427, ..., 33.62986935,\n",
       "        30.22067077, 42.76745683],\n",
       "       [50.33500015, 44.86428246, 50.47025399, ..., 32.67650267,\n",
       "        43.21772438, 51.93318172]])"
      ]
     },
     "execution_count": 78,
     "metadata": {},
     "output_type": "execute_result"
    }
   ],
   "source": [
    "X_digits_dist"
   ]
  },
  {
   "cell_type": "code",
   "execution_count": 79,
   "metadata": {},
   "outputs": [],
   "source": [
    "y_train_propagated = np.empty(len(X_train), dtype=np.int32)\n",
    "for i in range(k):\n",
    "    y_train_propagated[kmeans.labels_ == i] = y_representative_digits[i]"
   ]
  },
  {
   "cell_type": "code",
   "execution_count": 80,
   "metadata": {},
   "outputs": [
    {
     "data": {
      "text/plain": [
       "LogisticRegression(max_iter=5000, multi_class='ovr', random_state=42)"
      ]
     },
     "execution_count": 80,
     "metadata": {},
     "output_type": "execute_result"
    }
   ],
   "source": [
    "log_reg = LogisticRegression(multi_class=\"ovr\", solver=\"lbfgs\", max_iter=5000, random_state=42)\n",
    "log_reg.fit(X_train, y_train_propagated)"
   ]
  },
  {
   "cell_type": "code",
   "execution_count": 81,
   "metadata": {},
   "outputs": [
    {
     "data": {
      "text/plain": [
       "0.9177777777777778"
      ]
     },
     "execution_count": 81,
     "metadata": {},
     "output_type": "execute_result"
    }
   ],
   "source": [
    "log_reg.score(X_test, y_test)"
   ]
  },
  {
   "cell_type": "code",
   "execution_count": 86,
   "metadata": {},
   "outputs": [],
   "source": [
    "percentile_closest = 20\n",
    "\n",
    "X_cluster_dist = X_digits_dist[np.arange(len(X_train)), kmeans.labels_]\n",
    "for i in range(k):\n",
    "    in_cluster = (kmeans.labels_ == i)\n",
    "    cluster_dist = X_cluster_dist[in_cluster]\n",
    "    cutoff_distance = np.percentile(cluster_dist, percentile_closest)\n",
    "    above_cutoff = (X_cluster_dist > cutoff_distance)\n",
    "    X_cluster_dist[in_cluster & above_cutoff] = -1"
   ]
  },
  {
   "cell_type": "code",
   "execution_count": 87,
   "metadata": {},
   "outputs": [],
   "source": [
    "partially_propagated = (X_cluster_dist != -1)\n",
    "X_train_partially_propagated = X_train[partially_propagated]\n",
    "y_train_partially_propagated = y_train_propagated[partially_propagated]"
   ]
  },
  {
   "cell_type": "code",
   "execution_count": 88,
   "metadata": {},
   "outputs": [
    {
     "data": {
      "text/plain": [
       "LogisticRegression(max_iter=5000, multi_class='ovr', random_state=42)"
      ]
     },
     "execution_count": 88,
     "metadata": {},
     "output_type": "execute_result"
    }
   ],
   "source": [
    "log_reg = LogisticRegression(multi_class=\"ovr\", solver=\"lbfgs\", max_iter=5000, random_state=42)\n",
    "log_reg.fit(X_train_partially_propagated, y_train_partially_propagated)"
   ]
  },
  {
   "cell_type": "code",
   "execution_count": 89,
   "metadata": {},
   "outputs": [
    {
     "data": {
      "text/plain": [
       "0.9022222222222223"
      ]
     },
     "execution_count": 89,
     "metadata": {},
     "output_type": "execute_result"
    }
   ],
   "source": [
    "log_reg.score(X_test, y_test)"
   ]
  },
  {
   "cell_type": "markdown",
   "metadata": {},
   "source": [
    "# Gaussian Mixtures"
   ]
  },
  {
   "cell_type": "code",
   "execution_count": 90,
   "metadata": {},
   "outputs": [],
   "source": [
    "X1, y1 = make_blobs(n_samples=1000, centers=((4, -4), (0, 0)), random_state=42)\n"
   ]
  },
  {
   "cell_type": "code",
   "execution_count": 95,
   "metadata": {},
   "outputs": [
    {
     "data": {
      "text/plain": [
       "array([[ 0.81672911,  1.32719052],\n",
       "       [ 0.28671649,  1.30485269],\n",
       "       [-1.89804675, -0.00869803],\n",
       "       ...,\n",
       "       [-0.6384584 ,  2.03202156],\n",
       "       [-1.37328012, -1.74808556],\n",
       "       [-1.22397356,  2.59592324]])"
      ]
     },
     "execution_count": 95,
     "metadata": {},
     "output_type": "execute_result"
    }
   ],
   "source": [
    "X1"
   ]
  },
  {
   "cell_type": "code",
   "execution_count": 96,
   "metadata": {},
   "outputs": [
    {
     "data": {
      "text/plain": [
       "(1000, 2)"
      ]
     },
     "execution_count": 96,
     "metadata": {},
     "output_type": "execute_result"
    }
   ],
   "source": [
    "X1.shape"
   ]
  },
  {
   "cell_type": "code",
   "execution_count": 99,
   "metadata": {},
   "outputs": [],
   "source": [
    "X1 = X1.dot(np.array([[0.374, 0.95], [1, 1]]))"
   ]
  },
  {
   "cell_type": "code",
   "execution_count": 100,
   "metadata": {},
   "outputs": [
    {
     "data": {
      "text/plain": [
       "array([[ 0.89013346,  1.06607651],\n",
       "       [ 0.31248542,  0.37425103],\n",
       "       [-2.06863559, -2.47752042],\n",
       "       ...,\n",
       "       [-0.69584049, -0.83337975],\n",
       "       [-1.49670504, -1.79254253],\n",
       "       [-1.3339794 , -1.59765268]])"
      ]
     },
     "execution_count": 100,
     "metadata": {},
     "output_type": "execute_result"
    }
   ],
   "source": [
    "X1"
   ]
  },
  {
   "cell_type": "code",
   "execution_count": null,
   "metadata": {},
   "outputs": [],
   "source": []
  }
 ],
 "metadata": {
  "kernelspec": {
   "display_name": "Python 3",
   "language": "python",
   "name": "python3"
  },
  "language_info": {
   "codemirror_mode": {
    "name": "ipython",
    "version": 3
   },
   "file_extension": ".py",
   "mimetype": "text/x-python",
   "name": "python",
   "nbconvert_exporter": "python",
   "pygments_lexer": "ipython3",
   "version": "3.7.9"
  },
  "toc": {
   "base_numbering": 1,
   "nav_menu": {},
   "number_sections": true,
   "sideBar": true,
   "skip_h1_title": false,
   "title_cell": "Table of Contents",
   "title_sidebar": "Contents",
   "toc_cell": false,
   "toc_position": {},
   "toc_section_display": true,
   "toc_window_display": true
  }
 },
 "nbformat": 4,
 "nbformat_minor": 4
}
