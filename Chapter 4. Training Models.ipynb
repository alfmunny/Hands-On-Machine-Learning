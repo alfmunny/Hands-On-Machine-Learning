{
 "cells": [
  {
   "cell_type": "markdown",
   "metadata": {},
   "source": [
    "# Linear Regression"
   ]
  },
  {
   "cell_type": "markdown",
   "metadata": {},
   "source": [
    "\n",
    "$$\\begin{align*}\n",
    "\\hat{y} = \\theta_0 + \\theta_1x_1 + \\theta_2x_2 + ... + \\theta_nx_n\n",
    "\\end{align*}$$\n",
    "\n",
    "A weighted sum of the input features, plus a constant called the bias term (also called the intercept term)\n",
    "\n",
    "Vectorized form\n",
    "$$\n",
    "\\begin{align*}\n",
    "\\hat{y} = h_\\theta(\\mathbf{x}) = \\mathbf{\\theta} \\cdot \\mathbf{x}\n",
    "\\end{align*}\n",
    "$$\n",
    "\n",
    "- $\\mathbf{\\theta}$: model's parameter vector, containing the bias term $\\theta_0$ and feature weights $\\theta_1$ to $\\theta_n$\n",
    "- $\\mathbf{x}$ is the instance's feature vector. containing $x_0$ to $x_n$, with $x_0$ always equal to 1.\n",
    "- $\\mathbf{\\theta} \\cdot \\mathbf{x}$ is the dot product of the vectors $\\theta$ and $x$, which is of course equal to $\\theta_0x_0+\\theta_1x_1+\\theta_2x_2 \\dots +\\theta_nx_n $\n",
    "- $h_0$: hypothesis function."
   ]
  },
  {
   "cell_type": "markdown",
   "metadata": {},
   "source": [
    "In order to train a Linear Regression model, we need a measure of how well the model fits the training data. In practice, it is simpler to minimiye the Mean Square Error (MSE) than the Root Mean Square Error (RMSE).\n",
    "\n",
    "$$\n",
    "\\begin{align*}\n",
    "MSE(\\mathbf{X}, h_\\theta) = \\frac{1}{m}\\sum_{i=1}^{m}\\left(\\mathbf{\\theta^T}\\mathbf{x}^{(i)}-y^{(i)}\\right)\n",
    "\\end{align*}\n",
    "$$\n"
   ]
  },
  {
   "cell_type": "code",
   "execution_count": null,
   "metadata": {},
   "outputs": [],
   "source": []
  }
 ],
 "metadata": {
  "kernelspec": {
   "display_name": "Python 3",
   "language": "python",
   "name": "python3"
  },
  "language_info": {
   "codemirror_mode": {
    "name": "ipython",
    "version": 3
   },
   "file_extension": ".py",
   "mimetype": "text/x-python",
   "name": "python",
   "nbconvert_exporter": "python",
   "pygments_lexer": "ipython3",
   "version": "3.7.4"
  },
  "toc": {
   "base_numbering": 1,
   "nav_menu": {},
   "number_sections": true,
   "sideBar": true,
   "skip_h1_title": false,
   "title_cell": "Table of Contents",
   "title_sidebar": "Contents",
   "toc_cell": false,
   "toc_position": {},
   "toc_section_display": true,
   "toc_window_display": false
  }
 },
 "nbformat": 4,
 "nbformat_minor": 4
}
